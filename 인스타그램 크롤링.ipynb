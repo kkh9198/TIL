{
 "cells": [
  {
   "cell_type": "markdown",
   "metadata": {},
   "source": [
    "* 쿠팡와우,마켓컬리,SSG 새벽심야배송하는 3개업체 비교,각 업체마다 특징이 나타나는지,제품의 특징이 나타나는지"
   ]
  },
  {
   "cell_type": "code",
   "execution_count": 1,
   "metadata": {
    "scrolled": true
   },
   "outputs": [
    {
     "name": "stdout",
     "output_type": "stream",
     "text": [
      "Collecting selenium\n",
      "  Downloading selenium-3.141.0-py2.py3-none-any.whl (904 kB)\n",
      "Requirement already satisfied: urllib3 in c:\\programdata\\anaconda3\\lib\\site-packages (from selenium) (1.25.11)\n",
      "Installing collected packages: selenium\n",
      "Successfully installed selenium-3.141.0\n",
      "Note: you may need to restart the kernel to use updated packages.\n"
     ]
    }
   ],
   "source": [
    "pip install selenium "
   ]
  },
  {
   "cell_type": "code",
   "execution_count": 23,
   "metadata": {},
   "outputs": [],
   "source": [
    "def insta_searching(word):\n",
    "    url = \"https://www.instagram.com/explore/tags/\" + word\n",
    "    return url\n",
    "\n",
    "from selenium import webdriver\n",
    "\n",
    "driver = webdriver.Chrome(\"chromedriver.exe\")\n",
    "\n",
    "import time"
   ]
  },
  {
   "cell_type": "code",
   "execution_count": 24,
   "metadata": {},
   "outputs": [],
   "source": [
    "#인스타 접속\n",
    "driver.get('https://www.instargram.com')\n",
    "time.sleep(5) #시간을 넉넉히 설정합니다."
   ]
  },
  {
   "cell_type": "code",
   "execution_count": 25,
   "metadata": {},
   "outputs": [],
   "source": [
    "#로그인에 필요한 사항을 브라우저 제어를통해 입력합니다.\n",
    "email = '01086897540'   ### 사용할 계정 정보 입력\n",
    "input_id = driver.find_elements_by_css_selector('input._2hvTZ.pexuQ.zyHYP')[0]\n",
    "input_id.clear()\n",
    "input_id.send_keys(email)\n",
    "\n",
    "password = 'rkdgus12!@' ### 비번 정보 수정\n",
    "input_pw = driver.find_elements_by_css_selector('input._2hvTZ.pexuQ.zyHYP')[1]\n",
    "input_pw.clear()\n",
    "input_pw.send_keys(password)\n",
    "input_pw.submit()\n",
    "time.sleep(3)\n"
   ]
  },
  {
   "cell_type": "code",
   "execution_count": 28,
   "metadata": {},
   "outputs": [],
   "source": [
    "word = \"마켓컬리\" #검색할 해시태그. 띄어쓰기를 사용하면 안됩니다\n",
    "url = insta_searching(word)\n",
    "driver.get(url)\n",
    "time.sleep(2)"
   ]
  },
  {
   "cell_type": "code",
   "execution_count": 29,
   "metadata": {},
   "outputs": [],
   "source": [
    "#첫게시물을 여는 함수를 정의합니다\n",
    "def select_first(driver):\n",
    "    first = driver.find_element_by_css_selector(\"div._9AhH0\")\n",
    "    first.click()\n",
    "    time.sleep(3)"
   ]
  },
  {
   "cell_type": "code",
   "execution_count": 30,
   "metadata": {},
   "outputs": [],
   "source": [
    "import re\n",
    "from bs4 import BeautifulSoup\n",
    "\n",
    "#내용을 가져오는 함수를 정의합니다.\n",
    "def get_content(driver):\n",
    "    \n",
    "    html = driver.page_source\n",
    "    soup = BeautifulSoup(html, 'lxml')\n",
    "    \n",
    "\n",
    "    try:\n",
    "        content = soup.select('div.C4VMK > span')[0].text\n",
    "    except:\n",
    "        content = ' '\n",
    "    # 정규표현식을 활용하여 해시태그를 가져옵니다.\n",
    "    tags = re.findall(r'#[^\\s#,\\\\]+', content)  \n",
    "    # 작성일자를 가져옵니다.\n",
    "    date = soup.select('time._1o9PC.Nzb55')[0]['datetime'][:10]\n",
    "    # 좋아요 수를 가져옵니다.\n",
    "    try:\n",
    "        like = soup.select('div.Nm9Fw > button')[0].text[4:-1]   \n",
    "    except:\n",
    "        like = 0\n",
    "    # 위치정보를 가져옵니다.\n",
    "    try: \n",
    "        place = soup.select('div.M30cS')[0].text\n",
    "    except:\n",
    "        place = ''\n",
    "    # 수집한 정보를 리스트로 저장합니다.\n",
    "    data = [content, date, like, place, tags]\n",
    "    return data\n",
    "\n"
   ]
  },
  {
   "cell_type": "code",
   "execution_count": 31,
   "metadata": {},
   "outputs": [],
   "source": [
    "#다음게시글을 여는 함수를 정의합니다.\n",
    "def move_next(driver):\n",
    "\n",
    "    right = driver.find_element_by_css_selector ('a.coreSpriteRightPaginationArrow')\n",
    "    right.click()\n",
    "    time.sleep(3)"
   ]
  },
  {
   "cell_type": "code",
   "execution_count": 32,
   "metadata": {},
   "outputs": [],
   "source": [
    "#함수를 차례대로 실행합니다.\n",
    "select_first(driver)\n",
    "results = [ ]\n",
    "target = 50      # 크롤링할 게시글 수\n",
    "for i in range(target):\n",
    "    # 게시글 수집에 오류 발생시 2초 대기후 다음글로 넘어갑니다.\n",
    "    try:\n",
    "        data = get_content(driver)    # 게시글 정보 가져오기\n",
    "        results.append(data)\n",
    "        move_next(driver)\n",
    "    except:\n",
    "        time.sleep(2)\n",
    "        move_next(driver)\n"
   ]
  },
  {
   "cell_type": "code",
   "execution_count": 33,
   "metadata": {},
   "outputs": [
    {
     "name": "stdout",
     "output_type": "stream",
     "text": [
      "[['2021.03.15.월-#아보카도김치볶음밥#치즈돈까스#해쉬브라운-세상 맛있어서 이 조합으로 한 번 더 해먹기 향 찐한 아보카도까지 올려주니 💛🥑💛치즈돈까스는 내사랑 #마켓컬리 에서샀는데모짜렐라&체다 치즈가 듬뿍 들어있어요즘 빼놓지 않고 주문하는 중 (매우 추천)', '2021-03-15', 0, '', ['#아보카도김치볶음밥', '#치즈돈까스', '#해쉬브라운-세상', '#마켓컬리']], ['#여니식단_점심⠀- 흑미밥 1/2공기- 계란2알 + 체다치즈 1/2 + 크래미 1개- #존쿡델리미트 비엔나- 김치찜 3점- 멀티그레인 무화과빵 1조각- #모모스커피 3모금⠀점심은 집에 있는 재료로호다닥 차려먹었어요 :)⠀근데 존쿡델리미트 제품들은 전부 짜다는 걸제가 깜박했지 뭐에요...⠀뜨거운 물에 잠시 담가놨는데도저한테는 짜던 비엔나씨...⠀전체적으로 밥량에 비해 짜서입가심으로 빵이랑 커피쓰를 먹어줬어요!⠀저희 집은 근처에 있는 모모스 커피에서항상 드립커피를 사다먹는데이제 다른 커피는 못 먹는 입이 되버린..ㅎㅎ⠀커피 좋아하시는 분들은#마켓컬리 에서도 팔고 있으니한 번 드셔보세용♥️⠀그럼 오늘도 행복한 하루 되시길 바라며우리 저녁에 다시 만나용 🙌🏻⠀', '2021-02-28', 0, 'Busan 釜山, South Korea', ['#여니식단_점심⠀-', '#존쿡델리미트', '#모모스커피', '#마켓컬리']]]\n"
     ]
    }
   ],
   "source": [
    "#result적당히 출력해보기\n",
    "print(results[:2])\n",
    "\n",
    "\n"
   ]
  },
  {
   "cell_type": "code",
   "execution_count": 34,
   "metadata": {},
   "outputs": [],
   "source": [
    "#데이터프레임 만들고 엑셀로 저장하기\n",
    "import pandas as pd\n",
    "\n",
    "results_df = pd.DataFrame(results)\n",
    "results_df.columns = ['content','data','like','place','tags']\n",
    "results_df.to_excel('crawling_sample_1.xlsx', index=False) "
   ]
  },
  {
   "cell_type": "code",
   "execution_count": null,
   "metadata": {},
   "outputs": [],
   "source": []
  }
 ],
 "metadata": {
  "kernelspec": {
   "display_name": "Python 3",
   "language": "python",
   "name": "python3"
  },
  "language_info": {
   "codemirror_mode": {
    "name": "ipython",
    "version": 3
   },
   "file_extension": ".py",
   "mimetype": "text/x-python",
   "name": "python",
   "nbconvert_exporter": "python",
   "pygments_lexer": "ipython3",
   "version": "3.8.5"
  },
  "toc": {
   "base_numbering": 1,
   "nav_menu": {},
   "number_sections": true,
   "sideBar": true,
   "skip_h1_title": false,
   "title_cell": "Table of Contents",
   "title_sidebar": "Contents",
   "toc_cell": false,
   "toc_position": {},
   "toc_section_display": true,
   "toc_window_display": false
  }
 },
 "nbformat": 4,
 "nbformat_minor": 4
}
